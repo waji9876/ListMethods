{
 "cells": [
  {
   "cell_type": "markdown",
   "metadata": {},
   "source": [
    "# List Methods\n",
    "All List Methods Tried And Learnt"
   ]
  },
  {
   "cell_type": "code",
   "execution_count": 77,
   "metadata": {},
   "outputs": [
    {
     "data": {
      "text/plain": [
       "['__add__',\n",
       " '__class__',\n",
       " '__contains__',\n",
       " '__delattr__',\n",
       " '__delitem__',\n",
       " '__dir__',\n",
       " '__doc__',\n",
       " '__eq__',\n",
       " '__format__',\n",
       " '__ge__',\n",
       " '__getattribute__',\n",
       " '__getitem__',\n",
       " '__gt__',\n",
       " '__hash__',\n",
       " '__iadd__',\n",
       " '__imul__',\n",
       " '__init__',\n",
       " '__init_subclass__',\n",
       " '__iter__',\n",
       " '__le__',\n",
       " '__len__',\n",
       " '__lt__',\n",
       " '__mul__',\n",
       " '__ne__',\n",
       " '__new__',\n",
       " '__reduce__',\n",
       " '__reduce_ex__',\n",
       " '__repr__',\n",
       " '__reversed__',\n",
       " '__rmul__',\n",
       " '__setattr__',\n",
       " '__setitem__',\n",
       " '__sizeof__',\n",
       " '__str__',\n",
       " '__subclasshook__',\n",
       " 'append',\n",
       " 'clear',\n",
       " 'copy',\n",
       " 'count',\n",
       " 'extend',\n",
       " 'index',\n",
       " 'insert',\n",
       " 'pop',\n",
       " 'remove',\n",
       " 'reverse',\n",
       " 'sort']"
      ]
     },
     "execution_count": 77,
     "metadata": {},
     "output_type": "execute_result"
    }
   ],
   "source": [
    "cities = [\"Islamabad\", \" Karachi\", \"Lahore\", \"Peshawer\", \"Quetta\"]\n",
    "dir(cities)"
   ]
  },
  {
   "cell_type": "code",
   "execution_count": 78,
   "metadata": {},
   "outputs": [
    {
     "name": "stdout",
     "output_type": "stream",
     "text": [
      "['Islamabad', 'Trabzon', 'New York', 'London', 'Seattle', 'Zurich', 'Vienna', 'Helsink', 'Munich', 'Karachi', 'Tbilisi']\n",
      "-----------------------------------------------------------------------------------------------------------------------\n",
      "['Islamabad', 'Trabzon', 'New York', 'London', 'Seattle', 'Zurich', 'Vienna', 'Helsink', 'Munich', 'Karachi', 'Tbilisi', 'Warsaw']\n"
     ]
    }
   ],
   "source": [
    "# 1-----------.append() method-------------1\n",
    "\n",
    "# It changes the list permanently. Therefore, it is an in-memory change.\n",
    "\n",
    "cities_1 = [\"Islamabad\", \"Trabzon\", \"New York\", \"London\", \"Seattle\", \"Zurich\", \"Vienna\", \"Helsink\", \"Munich\", \"Karachi\", \"Tbilisi\", ]\n",
    "print(cities_1)\n",
    "\n",
    "print(\"-----------------------------------------------------------------------------------------------------------------------\")\n",
    "\n",
    "cities_1.append(\"Warsaw\")  # adds new item to the list at the end.\n",
    "print(cities_1)"
   ]
  },
  {
   "cell_type": "code",
   "execution_count": 79,
   "metadata": {},
   "outputs": [
    {
     "name": "stdout",
     "output_type": "stream",
     "text": [
      "['Lahore', 'Bucharest', 'Philadelphia', 'Dudelange', 'Moscow', 'Jakarta', 'Berlin', 'Geneva', 'Amsterdam']\n",
      "---------------------------------------------------------------------------------\n",
      "[]\n"
     ]
    }
   ],
   "source": [
    "# 2-----------.clear() method--------------2\n",
    "\n",
    "# It empties a list. Change is permanent. Therefore, it is an in-memory action.\n",
    "\n",
    "cities_2 = [\"Lahore\", \"Bucharest\", \"Philadelphia\", \"Dudelange\", \"Moscow\", \"Jakarta\", \"Berlin\", \"Geneva\", \"Amsterdam\", ]\n",
    "print(cities_2)\n",
    "print(\"---------------------------------------------------------------------------------\")\n",
    "cities_2.clear() # removes all the items in the list\n",
    "print(cities_2)"
   ]
  },
  {
   "cell_type": "code",
   "execution_count": 80,
   "metadata": {},
   "outputs": [
    {
     "name": "stdout",
     "output_type": "stream",
     "text": [
      "['Jeddah', 'La Paz', 'Faisalabad', 'Ankara', 'Calgary', 'Bonn', 'Seville', 'Shanghai', 'Buenos Aires']\n"
     ]
    }
   ],
   "source": [
    "# 3-----------.copy() method--------------3\n",
    "\n",
    "# It makes a shallow copy of a list.\n",
    "\n",
    "cities_3 = [\"Jeddah\", \"La Paz\", \"Faisalabad\", \"Ankara\", \"Calgary\", \"Bonn\", \"Seville\", \"Shanghai\", \"Buenos Aires\",]\n",
    "cities_copied = cities_3.copy() \n",
    "print(cities_copied)"
   ]
  },
  {
   "cell_type": "code",
   "execution_count": 81,
   "metadata": {},
   "outputs": [
    {
     "name": "stdout",
     "output_type": "stream",
     "text": [
      "['Edmonton', 'Bath', 'Almaty', 'Bath', 'Melbourne', 'Tokyo', 'Bath', 'Denver', 'Peshawer', 'Bath', 'Yerevan', 'Manama']\n",
      "----------------------------------------------------------------------------\n",
      "4\n"
     ]
    }
   ],
   "source": [
    "# 4-----------.count() method--------------4\n",
    "\n",
    "# it counts the number of times a particular item appears in a list.\n",
    "\n",
    "cities_4 = [\"Edmonton\", \"Bath\", \"Almaty\", \"Bath\", \"Melbourne\", \"Tokyo\", \"Bath\", \"Denver\", \"Peshawer\", \"Bath\", \"Yerevan\", \"Manama\", ]\n",
    "print(cities_4)\n",
    "print(\"----------------------------------------------------------------------------\")\n",
    "print(cities_4.count(\"Bath\"))  # Here it checks for the number of times \"Bath\" appears in the list."
   ]
  },
  {
   "cell_type": "code",
   "execution_count": 82,
   "metadata": {},
   "outputs": [
    {
     "name": "stdout",
     "output_type": "stream",
     "text": [
      "['Uppsala', 'Izmir', 'Koper', 'Oslo', 'Khartoum', 'Hyderabad', 'Karakol', 'Florence', 'Saratov', 'Jhelum', 'Edinburgh', 'Lucknow', 'Antalya', 'Chittagong', 'Salalah']\n"
     ]
    }
   ],
   "source": [
    "# 5-----------.extend() method--------------5\n",
    "\n",
    "\n",
    "# it extends the list by joining another list whose identifier is passed as argumnet to extend() method.\n",
    "\n",
    "cities_5 = [\"Uppsala\", \"Izmir\", \"Koper\", \"Oslo\", \"Khartoum\", \"Hyderabad\", \"Karakol\", \"Florence\"]\n",
    "\n",
    "cities_extension= [\"Saratov\", \"Jhelum\", \"Edinburgh\", \"Lucknow\", \"Antalya\", \"Chittagong\", \"Salalah\",]\n",
    "\n",
    "cities_5.extend(cities_extension)\n",
    "print(cities_5)"
   ]
  },
  {
   "cell_type": "code",
   "execution_count": 83,
   "metadata": {},
   "outputs": [
    {
     "name": "stdout",
     "output_type": "stream",
     "text": [
      "['Busan', 'Dammam', 'Turbat', 'Lyon', 'Rabat', 'Luanda', 'Phuket', 'Cape Town']\n",
      "-----------------------------------------------------------------------------\n",
      "3\n"
     ]
    }
   ],
   "source": [
    "# 6-----------.index() method--------------6\n",
    "\n",
    "cities_6 = [\"Busan\", \"Dammam\", \"Turbat\", \"Lyon\", \"Rabat\", \"Luanda\", \"Phuket\", \"Cape Town\", ]\n",
    "print(cities_6)\n",
    "print(\"-----------------------------------------------------------------------------\")\n",
    "print(cities_6.index('Lyon'))     # returns index of the item passed as argument. \n"
   ]
  },
  {
   "cell_type": "code",
   "execution_count": 84,
   "metadata": {},
   "outputs": [
    {
     "name": "stdout",
     "output_type": "stream",
     "text": [
      "['Toronto', 'Makati', 'Shimla', 'Montpelier', 'Vancouver', 'Muzaffargarh', 'Daugavpils', 'Canberra', 'Dhaka']\n"
     ]
    }
   ],
   "source": [
    "# 7-----------.insert() method--------------7\n",
    "\n",
    "cities_7 = [\"Makati\", \"Shimla\", \"Montpelier\", \"Vancouver\", \"Muzaffargarh\", \"Daugavpils\", \"Canberra\", \"Dhaka\", ]\n",
    "cities_7.insert(0, \"Toronto\")  # has the ability to insert item at any index number in the list.\n",
    "print(cities_7)\n"
   ]
  },
  {
   "cell_type": "code",
   "execution_count": 85,
   "metadata": {},
   "outputs": [
    {
     "name": "stdout",
     "output_type": "stream",
     "text": [
      "['Bahawalpur', 'Granada', 'Incheon', 'Kohat', 'Wellington', 'Basrah', 'Debrecen', 'Mumbai']\n",
      "------------------------------------------------------------------------------------------------------------\n",
      "['Bahawalpur', 'Granada', 'Kohat', 'Wellington', 'Basrah', 'Debrecen', 'Mumbai']\n"
     ]
    }
   ],
   "source": [
    "# 8-----------.pop() method----------------8\n",
    "\n",
    "# By default, it removes the last item in the list. But it can also take the index number of the item you want to delete.\n",
    "# In that case that item will be deleted, not the last one.\n",
    "\n",
    "cities_8 = [\"Bahawalpur\", \"Granada\", \"Incheon\", \"Kohat\", \"Wellington\", \"Basrah\", \"Debrecen\", \"Mumbai\", \"Shenzhen\", ]\n",
    "cities_8.pop()\n",
    "print(cities_8)\n",
    "\n",
    "print(\"------------------------------------------------------------------------------------------------------------\")\n",
    "\n",
    "cities_8.pop(2)\n",
    "print(cities_8)"
   ]
  },
  {
   "cell_type": "code",
   "execution_count": 86,
   "metadata": {},
   "outputs": [
    {
     "name": "stdout",
     "output_type": "stream",
     "text": [
      "['Isfahan', 'Piraeus', 'Portland', 'Santiago', 'Vilnius', 'Budapest', 'Montreal', 'Kashgar']\n"
     ]
    }
   ],
   "source": [
    "# 9-----------.remove() method--------------9\n",
    "\n",
    "# it removes the specific item that is passes as argument. \n",
    "\n",
    "cities_9 = [\"Isfahan\", \"Piraeus\", \"Portland\", \"Santiago\", \"Rijeka\", \"Vilnius\", \"Budapest\", \"Montreal\", \"Kashgar\", ]\n",
    "cities_9.remove('Rijeka')   # here 'Rijeka' will be deleted from the list. \n",
    "print(cities_9)"
   ]
  },
  {
   "cell_type": "code",
   "execution_count": 87,
   "metadata": {},
   "outputs": [
    {
     "name": "stdout",
     "output_type": "stream",
     "text": [
      "['Paris', 'Gomel', 'Singapore', 'Kandahar', 'Barcelona', 'Quetta', 'Tirana', 'Sydney', 'Tehran', 'Minsk', 'Seoul', 'Brussels', 'Kiev', 'Mosul', 'The Hague', 'Abbotabad']\n"
     ]
    }
   ],
   "source": [
    "# 10-----------.reverse() method--------------10\n",
    "\n",
    "# it reverses the order of the items in the list.\n",
    "\n",
    "cities_10 = [\"Abbotabad\", \"The Hague\", \"Mosul\", \"Kiev\", \"Brussels\", \"Seoul\", \"Minsk\", \"Tehran\", \"Sydney\", \"Tirana\", \"Quetta\", \"Barcelona\", \"Kandahar\", \"Singapore\", \"Gomel\", \"Paris\", ]\n",
    "cities_10.reverse()\n",
    "print(cities_10)"
   ]
  },
  {
   "cell_type": "code",
   "execution_count": 88,
   "metadata": {},
   "outputs": [
    {
     "name": "stdout",
     "output_type": "stream",
     "text": [
      "['Abuja', 'Aden', 'Astana', 'Atlanta', 'Baku', 'Beirut', 'Brampton', 'Chicago', 'Colombo', 'Copenhagen', 'Dallas', 'Gwadar', 'Malacca', 'Manila', 'Plovdiv', 'Reykjavik', 'Richmond', 'Salvador', 'Salzburg', 'Sharjah', 'Stockholm']\n",
      "-------------------------------------------------------------------------------------------------------------------\n",
      "['Stockholm', 'Sharjah', 'Salzburg', 'Salvador', 'Richmond', 'Reykjavik', 'Plovdiv', 'Manila', 'Malacca', 'Gwadar', 'Dallas', 'Copenhagen', 'Colombo', 'Chicago', 'Brampton', 'Beirut', 'Baku', 'Atlanta', 'Astana', 'Aden', 'Abuja']\n"
     ]
    }
   ],
   "source": [
    "# 11-----------.sort() method--------------11\n",
    "\n",
    "# it sorts the items in alphabetical order. it can also take argument \"reverse\".\n",
    "\n",
    "cities_11 = [\"Manila\", \"Atlanta\", \"Malacca\", \"Salvador\", \"Baku\", \"Chicago\", \"Brampton\", \"Dallas\", \"Beirut\", \"Stockholm\", \"Aden\", \"Plovdiv\", \"Sharjah\", \"Salzburg\", \"Reykjavik\", \"Astana\", \"Richmond\", \"Copenhagen\", \"Gwadar\", \"Abuja\", \"Colombo\", ]\n",
    "cities_11.sort()    \n",
    "print(cities_11)\n",
    "\n",
    "print(\"-------------------------------------------------------------------------------------------------------------------\")\n",
    "\n",
    "cities_11.sort(reverse= True)\n",
    "print(cities_11)"
   ]
  }
 ],
 "metadata": {
  "kernelspec": {
   "display_name": "Python 3",
   "language": "python",
   "name": "python3"
  },
  "language_info": {
   "codemirror_mode": {
    "name": "ipython",
    "version": 3
   },
   "file_extension": ".py",
   "mimetype": "text/x-python",
   "name": "python",
   "nbconvert_exporter": "python",
   "pygments_lexer": "ipython3",
   "version": "3.7.4"
  }
 },
 "nbformat": 4,
 "nbformat_minor": 2
}
